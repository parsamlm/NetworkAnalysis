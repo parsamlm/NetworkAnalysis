{
 "cells": [
  {
   "metadata": {},
   "cell_type": "markdown",
   "source": "# Assignment No. 1 - Network Analysis",
   "id": "577d5ac92e0d69b8"
  },
  {
   "metadata": {},
   "cell_type": "markdown",
   "source": "## Importing Libraries",
   "id": "f5dc693558872de7"
  },
  {
   "metadata": {
    "ExecuteTime": {
     "end_time": "2024-07-24T19:31:24.676207Z",
     "start_time": "2024-07-24T19:31:23.140876Z"
    }
   },
   "cell_type": "code",
   "source": [
    "import networkx as nx\n",
    "import random\n",
    "import matplotlib.pyplot as plt\n",
    "from collections import Counter"
   ],
   "id": "a657c4a3c55072e0",
   "outputs": [],
   "execution_count": 1
  },
  {
   "metadata": {},
   "cell_type": "markdown",
   "source": "## Introduction",
   "id": "f0bb5b79a8cf301c"
  },
  {
   "cell_type": "code",
   "id": "initial_id",
   "metadata": {
    "collapsed": true,
    "ExecuteTime": {
     "end_time": "2024-07-24T19:31:30.599542Z",
     "start_time": "2024-07-24T19:31:24.677236Z"
    }
   },
   "source": "my_graph = nx.read_edgelist(\"../data/dataset.txt\", create_using=nx.Graph(), nodetype=int)",
   "outputs": [],
   "execution_count": 2
  },
  {
   "metadata": {
    "ExecuteTime": {
     "end_time": "2024-07-24T19:31:30.716890Z",
     "start_time": "2024-07-24T19:31:30.600553Z"
    }
   },
   "cell_type": "code",
   "source": [
    "number_of_nodes = my_graph.number_of_nodes()\n",
    "print(\"Number of nodes: \", number_of_nodes)\n",
    "number_of_links = my_graph.number_of_edges()\n",
    "print(\"Number of edges: \", number_of_links)\n",
    "average_degree = sum(\n",
    "    dict(my_graph.degree()).values()) / my_graph.number_of_nodes()\n",
    "print(\"Average Degree: \", average_degree)"
   ],
   "id": "e01b40dc8793964e",
   "outputs": [
    {
     "name": "stdout",
     "output_type": "stream",
     "text": [
      "Number of nodes:  81306\n",
      "Number of edges:  1342310\n",
      "Average Degree:  33.018719405701916\n"
     ]
    }
   ],
   "execution_count": 3
  },
  {
   "metadata": {},
   "cell_type": "markdown",
   "source": "## Graph Visualization",
   "id": "6f51c21d35bc7d5a"
  },
  {
   "metadata": {
    "ExecuteTime": {
     "end_time": "2024-07-24T19:31:46.400419Z",
     "start_time": "2024-07-24T19:31:30.717898Z"
    }
   },
   "cell_type": "code",
   "source": [
    "nx.write_gexf(my_graph, \"../data/dataset.gexf\")\n",
    "# then the file is imported to Gephi to visualize the graph"
   ],
   "id": "a6da8987a129f03c",
   "outputs": [],
   "execution_count": 4
  },
  {
   "metadata": {},
   "cell_type": "markdown",
   "source": "",
   "id": "6361cfe577295c67"
  },
  {
   "metadata": {},
   "cell_type": "markdown",
   "source": "## Giant Component",
   "id": "83e63eaaa3260a9"
  },
  {
   "metadata": {
    "ExecuteTime": {
     "end_time": "2024-07-24T19:31:46.407241Z",
     "start_time": "2024-07-24T19:31:46.402430Z"
    }
   },
   "cell_type": "code",
   "source": [
    "def get_giant_component_info(graph):\n",
    "    giant_component = max(nx.connected_components(graph), key=len)\n",
    "    giant_component_graph = graph.subgraph(giant_component)\n",
    "    return giant_component, giant_component_graph"
   ],
   "id": "85ad31f7d69cf75c",
   "outputs": [],
   "execution_count": 5
  },
  {
   "metadata": {
    "ExecuteTime": {
     "end_time": "2024-07-24T19:31:48.179788Z",
     "start_time": "2024-07-24T19:31:46.408251Z"
    }
   },
   "cell_type": "code",
   "source": [
    "giant_component, giant_component_graph = get_giant_component_info(my_graph)\n",
    "print(\"Giant Component - Number of nodes: \", giant_component_graph.number_of_nodes())\n",
    "print(\"Giant Component - Number of edges: \", giant_component_graph.number_of_edges())"
   ],
   "id": "eaec9b26885fe7dc",
   "outputs": [
    {
     "name": "stdout",
     "output_type": "stream",
     "text": [
      "Giant Component - Number of nodes:  81306\n",
      "Giant Component - Number of edges:  1342310\n"
     ]
    }
   ],
   "execution_count": 6
  },
  {
   "metadata": {},
   "cell_type": "markdown",
   "source": "## Data Subsampling",
   "id": "8a600c6b401d29a1"
  },
  {
   "metadata": {
    "ExecuteTime": {
     "end_time": "2024-07-24T19:31:48.829147Z",
     "start_time": "2024-07-24T19:31:48.180794Z"
    }
   },
   "cell_type": "code",
   "source": [
    "graph_nodes_list = list(my_graph.nodes())\n",
    "new_graph_size = 20000\n",
    "new_graph_nodes = random.sample(graph_nodes_list, new_graph_size)\n",
    "new_graph = my_graph.subgraph(new_graph_nodes)\n",
    "print(\"New Graph - Number of nodes: \", new_graph.number_of_nodes())\n",
    "print(\"New Graph - Number of edges: \", new_graph.number_of_edges())\n",
    "average_degree = sum(\n",
    "    dict(new_graph.degree()).values()) / new_graph.number_of_nodes()\n",
    "print(\"Average Degree: \", average_degree)"
   ],
   "id": "c5618406af85dc82",
   "outputs": [
    {
     "name": "stdout",
     "output_type": "stream",
     "text": [
      "New Graph - Number of nodes:  20000\n",
      "New Graph - Number of edges:  78377\n",
      "Average Degree:  7.8377\n"
     ]
    }
   ],
   "execution_count": 7
  },
  {
   "metadata": {
    "ExecuteTime": {
     "end_time": "2024-07-24T19:31:50.509111Z",
     "start_time": "2024-07-24T19:31:48.830183Z"
    }
   },
   "cell_type": "code",
   "source": "nx.write_gexf(new_graph, \"../data/new_graph.gexf\")",
   "id": "c8a097bb631328cc",
   "outputs": [],
   "execution_count": 8
  },
  {
   "metadata": {},
   "cell_type": "markdown",
   "source": "## Subsampled Data - Giant Component",
   "id": "6dbb8e1e8e542ab6"
  },
  {
   "metadata": {
    "ExecuteTime": {
     "end_time": "2024-07-24T19:32:02.787582Z",
     "start_time": "2024-07-24T19:31:50.510116Z"
    }
   },
   "cell_type": "code",
   "source": [
    "new_giant_component, new_giant_component_graph = get_giant_component_info(new_graph)\n",
    "print(\"Giant Component - Number of nodes: \", new_giant_component_graph.number_of_nodes())\n",
    "print(\"Giant Component - Number of edges: \", new_giant_component_graph.number_of_edges())"
   ],
   "id": "b1168873759d5e2c",
   "outputs": [
    {
     "name": "stdout",
     "output_type": "stream",
     "text": [
      "Giant Component - Number of nodes:  16022\n",
      "Giant Component - Number of edges:  77264\n"
     ]
    }
   ],
   "execution_count": 9
  },
  {
   "metadata": {
    "ExecuteTime": {
     "end_time": "2024-07-24T19:32:04.554664Z",
     "start_time": "2024-07-24T19:32:02.788618Z"
    }
   },
   "cell_type": "code",
   "source": "nx.write_gexf(new_giant_component_graph, \"../data/new_giant_component_graph.gexf\")",
   "id": "8001b6907583e85b",
   "outputs": [],
   "execution_count": 10
  },
  {
   "metadata": {},
   "cell_type": "markdown",
   "source": "## Graph Characterization",
   "id": "65f1983543fc80d7"
  },
  {
   "metadata": {},
   "cell_type": "markdown",
   "source": "### Average Degree",
   "id": "2d15f2c50a87adc"
  },
  {
   "metadata": {
    "ExecuteTime": {
     "end_time": "2024-07-24T19:32:04.829791Z",
     "start_time": "2024-07-24T19:32:04.555436Z"
    }
   },
   "cell_type": "code",
   "source": [
    "average_degree = sum(\n",
    "    dict(new_giant_component_graph.degree()).values()) / new_giant_component_graph.number_of_nodes()\n",
    "print(\"Average Degree: \", average_degree)"
   ],
   "id": "dfe1bf1dda4b0b6a",
   "outputs": [
    {
     "name": "stdout",
     "output_type": "stream",
     "text": [
      "Average Degree:  9.644738484583698\n"
     ]
    }
   ],
   "execution_count": 11
  },
  {
   "metadata": {},
   "cell_type": "markdown",
   "source": "### Approximate Diameter",
   "id": "10f490d0d76ba9ab"
  },
  {
   "metadata": {
    "ExecuteTime": {
     "end_time": "2024-07-24T19:32:08.286371Z",
     "start_time": "2024-07-24T19:32:04.830798Z"
    }
   },
   "cell_type": "code",
   "source": [
    "def approximate_diameter(G, approximate_size=100):\n",
    "    nodes = list(G.nodes())\n",
    "    sample_chosen_nodes = random.sample(nodes, min(approximate_size, len(nodes)))\n",
    "    shortest_paths = nx.multi_source_dijkstra_path_length(G, sample_chosen_nodes)\n",
    "    return max(shortest_paths.values())\n",
    "approx_diameter = approximate_diameter(giant_component_graph)\n",
    "print(\"Approximate Diameter: \", approx_diameter)"
   ],
   "id": "321ecb0efa51865b",
   "outputs": [
    {
     "name": "stdout",
     "output_type": "stream",
     "text": [
      "Approximate Diameter:  4\n"
     ]
    }
   ],
   "execution_count": 12
  },
  {
   "metadata": {},
   "cell_type": "markdown",
   "source": "## Centrality Measures",
   "id": "444760c6b697bc4c"
  },
  {
   "metadata": {},
   "cell_type": "markdown",
   "source": "### Average Closeness",
   "id": "83c70d48879bc7de"
  },
  {
   "metadata": {
    "ExecuteTime": {
     "end_time": "2024-07-24T19:34:33.008066Z",
     "start_time": "2024-07-24T19:32:08.287376Z"
    }
   },
   "cell_type": "code",
   "source": [
    "sample_size = 100\n",
    "closeness_values = []\n",
    "for i in range(sample_size):\n",
    "    closeness_values.append(\n",
    "        nx.closeness_centrality(giant_component_graph, u=random.choice(list(giant_component_graph.nodes()))))\n",
    "print(\"Average Closeness Centrality: \", sum(closeness_values) / sample_size)"
   ],
   "id": "87054bc101bb6b35",
   "outputs": [
    {
     "name": "stdout",
     "output_type": "stream",
     "text": [
      "Average Closeness Centrality:  0.2593710456525749\n"
     ]
    }
   ],
   "execution_count": 13
  },
  {
   "metadata": {},
   "cell_type": "markdown",
   "source": "## Local Clustering Coefficient",
   "id": "2fff03b42a679807"
  },
  {
   "metadata": {
    "ExecuteTime": {
     "end_time": "2024-07-21T10:47:37.408758Z",
     "start_time": "2024-07-21T10:47:28.549236Z"
    }
   },
   "cell_type": "code",
   "source": [
    "clustering_coefficient = nx.average_clustering(new_giant_component_graph)\n",
    "print(\"Clustering Coefficient: \", clustering_coefficient)"
   ],
   "id": "4a9c562d0b7571f5",
   "outputs": [
    {
     "name": "stdout",
     "output_type": "stream",
     "text": [
      "Clustering Coefficient:  0.45661335616241117\n"
     ]
    }
   ],
   "execution_count": 15
  },
  {
   "metadata": {},
   "cell_type": "markdown",
   "source": "## Global Clustering Coefficient (Transitivity)",
   "id": "f457401266207f83"
  },
  {
   "metadata": {
    "ExecuteTime": {
     "end_time": "2024-07-24T20:02:55.292916Z",
     "start_time": "2024-07-24T20:02:46.790101Z"
    }
   },
   "cell_type": "code",
   "source": [
    "transitivity = nx.transitivity(new_giant_component_graph)\n",
    "print(\"Transitivity: \", transitivity)"
   ],
   "id": "e37292957eabe6eb",
   "outputs": [
    {
     "name": "stdout",
     "output_type": "stream",
     "text": [
      "Transitivity:  0.1897753932277703\n"
     ]
    }
   ],
   "execution_count": 16
  },
  {
   "metadata": {},
   "cell_type": "markdown",
   "source": "## Degree Distribution",
   "id": "ebea98c64d81be89"
  },
  {
   "metadata": {
    "ExecuteTime": {
     "end_time": "2024-07-21T10:53:07.367196Z",
     "start_time": "2024-07-21T10:53:06.689685Z"
    }
   },
   "cell_type": "code",
   "source": [
    "degree_sequence = [d for n, d in new_giant_component_graph.degree()]\n",
    "degree_counts = Counter(degree_sequence)\n",
    "degrees = list(degree_counts.keys())\n",
    "counts = list(degree_counts.values())\n",
    "\n",
    "plt.figure(figsize=(10, 6))\n",
    "plt.scatter(degrees, counts, color='k')\n",
    "plt.xlabel('Degree of nodes (Frequency)')\n",
    "plt.ylabel('Number of nodes with that degree (Degree)')\n",
    "plt.title('Degree Distribution of the Graph')\n",
    "plt.show()"
   ],
   "id": "3d61f82fc23533a6",
   "outputs": [
    {
     "data": {
      "text/plain": [
       "<Figure size 1000x600 with 1 Axes>"
      ],
      "image/png": "[encoded data removed]"
     },
     "metadata": {},
     "output_type": "display_data"
    }
   ],
   "execution_count": 21
  },
  {
   "metadata": {
    "ExecuteTime": {
     "end_time": "2024-07-21T10:54:16.593978Z",
     "start_time": "2024-07-21T10:54:15.641687Z"
    }
   },
   "cell_type": "code",
   "source": [
    "degree_sequence = [d for n, d in new_giant_component_graph.degree()]\n",
    "degree_counts = Counter(degree_sequence)\n",
    "degrees = list(degree_counts.keys())\n",
    "counts = list(degree_counts.values())\n",
    "\n",
    "plt.figure(figsize=(10, 6))\n",
    "plt.scatter(degrees, counts, color='k')\n",
    "plt.xscale('log')\n",
    "plt.yscale('log')\n",
    "plt.xlabel('log(Degree of nodes (Frequency))')\n",
    "plt.ylabel('log(Number of nodes with that degree (Degree))')\n",
    "plt.title('Logarithmic scale - Degree Distribution of the Graph')\n",
    "plt.show()"
   ],
   "id": "4f440b3be00e581e",
   "outputs": [
    {
     "data": {
      "text/plain": [
       "<Figure size 1000x600 with 1 Axes>"
      ],
      "image/png": "[encoded data removed]"
     },
     "metadata": {},
     "output_type": "display_data"
    }
   ],
   "execution_count": 22
  },
  {
   "metadata": {},
   "cell_type": "code",
   "outputs": [],
   "execution_count": null,
   "source": "",
   "id": "fbf3617debc64217"
  }
 ],
 "metadata": {
  "kernelspec": {
   "display_name": "Python 3",
   "language": "python",
   "name": "python3"
  },
  "language_info": {
   "codemirror_mode": {
    "name": "ipython",
    "version": 2
   },
   "file_extension": ".py",
   "mimetype": "text/x-python",
   "name": "python",
   "nbconvert_exporter": "python",
   "pygments_lexer": "ipython2",
   "version": "2.7.6"
  }
 },
 "nbformat": 4,
 "nbformat_minor": 5
}
