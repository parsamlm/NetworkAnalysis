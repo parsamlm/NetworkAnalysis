{
 "cells": [
  {
   "metadata": {},
   "cell_type": "markdown",
   "source": "# Different Measures Computation",
   "id": "577d5ac92e0d69b8"
  },
  {
   "metadata": {},
   "cell_type": "markdown",
   "source": "## Graph declaration",
   "id": "f0bb5b79a8cf301c"
  },
  {
   "cell_type": "code",
   "id": "initial_id",
   "metadata": {
    "collapsed": true,
    "ExecuteTime": {
     "end_time": "2024-05-23T12:29:52.284489Z",
     "start_time": "2024-05-23T12:29:49.314832Z"
    }
   },
   "source": [
    "import networkx as nx\n",
    "\n",
    "# retrieve the graph from the text file\n",
    "my_graph = nx.read_edgelist(\"../data/dataset.txt\", create_using=nx.Graph(), nodetype=int)"
   ],
   "outputs": [],
   "execution_count": 1
  },
  {
   "metadata": {},
   "cell_type": "markdown",
   "source": "## Graph Properties",
   "id": "b6873c7e9039732a"
  },
  {
   "metadata": {},
   "cell_type": "markdown",
   "source": "### Number of Nodes & Edges",
   "id": "f582b08dfc509bb7"
  },
  {
   "metadata": {
    "ExecuteTime": {
     "end_time": "2024-05-23T12:29:52.310995Z",
     "start_time": "2024-05-23T12:29:52.285772Z"
    }
   },
   "cell_type": "code",
   "source": [
    "# calculate the number of nodes\n",
    "number_of_nodes = my_graph.number_of_nodes()\n",
    "print(\"Number of nodes: \", number_of_nodes)\n",
    "# calculate the number of links\n",
    "number_of_links = my_graph.number_of_edges()\n",
    "print(\"Number of edges: \", number_of_links)"
   ],
   "id": "e01b40dc8793964e",
   "outputs": [
    {
     "name": "stdout",
     "output_type": "stream",
     "text": [
      "Number of nodes:  81306\n",
      "Number of edges:  1342310\n"
     ]
    }
   ],
   "execution_count": 2
  },
  {
   "metadata": {},
   "cell_type": "markdown",
   "source": "## Plotting the graph using Gephi",
   "id": "6f51c21d35bc7d5a"
  },
  {
   "metadata": {
    "ExecuteTime": {
     "end_time": "2024-05-23T12:29:59.530823Z",
     "start_time": "2024-05-23T12:29:52.311603Z"
    }
   },
   "cell_type": "code",
   "source": [
    "# Using Gephi to plot the graph\n",
    "nx.write_gexf(my_graph, \"../data/dataset.gexf\")"
   ],
   "id": "a6da8987a129f03c",
   "outputs": [],
   "execution_count": 3
  },
  {
   "metadata": {},
   "cell_type": "markdown",
   "source": "## Giant Component",
   "id": "83e63eaaa3260a9"
  },
  {
   "metadata": {
    "ExecuteTime": {
     "end_time": "2024-05-23T12:29:59.534219Z",
     "start_time": "2024-05-23T12:29:59.532152Z"
    }
   },
   "cell_type": "code",
   "source": [
    "import networkx as nx\n",
    "\n",
    "\n",
    "def get_giant_component_info(graph):\n",
    "    giant_component = max(nx.connected_components(graph), key=len)\n",
    "    giant_component_graph = graph.subgraph(giant_component)\n",
    "    return giant_component, giant_component_graph"
   ],
   "id": "85ad31f7d69cf75c",
   "outputs": [],
   "execution_count": 4
  },
  {
   "metadata": {},
   "cell_type": "markdown",
   "source": "### Giant Component Info",
   "id": "7c7f3d3153714ba2"
  },
  {
   "metadata": {
    "ExecuteTime": {
     "end_time": "2024-05-23T12:30:00.334267Z",
     "start_time": "2024-05-23T12:29:59.534806Z"
    }
   },
   "cell_type": "code",
   "source": [
    "giant_component, giant_component_graph = get_giant_component_info(my_graph)\n",
    "print(\"Giant Component - Number of nodes: \", giant_component_graph.number_of_nodes())\n",
    "print(\"Giant Component - Number of edges: \", giant_component_graph.number_of_edges())"
   ],
   "id": "eaec9b26885fe7dc",
   "outputs": [
    {
     "name": "stdout",
     "output_type": "stream",
     "text": [
      "Giant Component - Number of nodes:  81306\n",
      "Giant Component - Number of edges:  1342310\n"
     ]
    }
   ],
   "execution_count": 5
  },
  {
   "metadata": {},
   "cell_type": "markdown",
   "source": [
    "## Transformation of the graph into a smaller one\n",
    "from this section we will transform the graph into a smaller one by taking a sample of the graph."
   ],
   "id": "8a600c6b401d29a1"
  },
  {
   "metadata": {
    "ExecuteTime": {
     "end_time": "2024-05-23T12:30:00.487269Z",
     "start_time": "2024-05-23T12:30:00.335175Z"
    }
   },
   "cell_type": "code",
   "source": [
    "# We can make our graph smaller by taking the sample from the graph\n",
    "import random\n",
    "\n",
    "# Convert the set of nodes in the graph to a list\n",
    "graph_nodes_list = list(my_graph.nodes())\n",
    "\n",
    "new_graph_size = 20000  # Change this to the number of nodes you want in your sample\n",
    "\n",
    "# Choose a random sample of nodes from the graph\n",
    "new_graph_nodes = random.sample(graph_nodes_list, new_graph_size)\n",
    "\n",
    "# Create a subgraph from the sampled nodes\n",
    "new_graph = my_graph.subgraph(new_graph_nodes)\n",
    "# show the number of nodes\n",
    "print(\"New Graph - Number of nodes: \", new_graph.number_of_nodes())\n",
    "print(\"New Graph - Number of edges: \", new_graph.number_of_edges())"
   ],
   "id": "c5618406af85dc82",
   "outputs": [
    {
     "name": "stdout",
     "output_type": "stream",
     "text": [
      "New Graph - Number of nodes:  20000\n",
      "New Graph - Number of edges:  80535\n"
     ]
    }
   ],
   "execution_count": 6
  },
  {
   "metadata": {
    "ExecuteTime": {
     "end_time": "2024-05-23T12:30:01.204888Z",
     "start_time": "2024-05-23T12:30:00.487875Z"
    }
   },
   "cell_type": "code",
   "source": "nx.write_gexf(new_graph, \"../data/new_graph.gexf\")",
   "id": "c8a097bb631328cc",
   "outputs": [],
   "execution_count": 7
  },
  {
   "metadata": {
    "ExecuteTime": {
     "end_time": "2024-05-23T12:30:05.423921Z",
     "start_time": "2024-05-23T12:30:01.205668Z"
    }
   },
   "cell_type": "code",
   "source": [
    "# Find the giant component\n",
    "new_giant_component, new_giant_component_graph = get_giant_component_info(new_graph)\n",
    "print(\"Giant Component - Number of nodes: \", new_giant_component_graph.number_of_nodes())\n",
    "print(\"Giant Component - Number of edges: \", new_giant_component_graph.number_of_edges())"
   ],
   "id": "b1168873759d5e2c",
   "outputs": [
    {
     "name": "stdout",
     "output_type": "stream",
     "text": [
      "Giant Component - Number of nodes:  16330\n",
      "Giant Component - Number of edges:  79586\n"
     ]
    }
   ],
   "execution_count": 8
  },
  {
   "metadata": {
    "ExecuteTime": {
     "end_time": "2024-05-23T12:30:06.353325Z",
     "start_time": "2024-05-23T12:30:05.424557Z"
    }
   },
   "cell_type": "code",
   "source": [
    "# Using Gephi to plot the graph\n",
    "nx.write_gexf(new_giant_component_graph, \"../data/new_giant_component_graph.gexf\")"
   ],
   "id": "8001b6907583e85b",
   "outputs": [],
   "execution_count": 9
  },
  {
   "metadata": {
    "ExecuteTime": {
     "end_time": "2024-05-23T12:30:06.481486Z",
     "start_time": "2024-05-23T12:30:06.355123Z"
    }
   },
   "cell_type": "code",
   "source": [
    "# calculate the average degree\n",
    "average_degree = sum(\n",
    "    dict(new_giant_component_graph.degree()).values()) / new_giant_component_graph.number_of_nodes()\n",
    "print(\"Average Degree: \", average_degree)"
   ],
   "id": "dfe1bf1dda4b0b6a",
   "outputs": [
    {
     "name": "stdout",
     "output_type": "stream",
     "text": [
      "Average Degree:  9.747213717085119\n"
     ]
    }
   ],
   "execution_count": 10
  },
  {
   "metadata": {
    "ExecuteTime": {
     "end_time": "2024-05-23T12:30:08.122539Z",
     "start_time": "2024-05-23T12:30:06.482220Z"
    }
   },
   "cell_type": "code",
   "source": [
    "import random\n",
    "\n",
    "\n",
    "def approximate_diameter(G, approximate_size=100):\n",
    "    # Select a random sample of nodes\n",
    "    nodes = list(G.nodes())\n",
    "    sample_chosen_nodes = random.sample(nodes, min(approximate_size, len(nodes)))\n",
    "\n",
    "    # Calculate the shortest paths from the sampled nodes\n",
    "    shortest_paths = nx.multi_source_dijkstra_path_length(G, sample_chosen_nodes)\n",
    "\n",
    "    # The approximate diameter is the maximum shortest path length\n",
    "    return max(shortest_paths.values())\n",
    "\n",
    "\n",
    "# Use the function to calculate the approximate diameter\n",
    "approx_diameter = approximate_diameter(giant_component_graph)\n",
    "print(\"Approximate Diameter: \", approx_diameter)"
   ],
   "id": "321ecb0efa51865b",
   "outputs": [
    {
     "name": "stdout",
     "output_type": "stream",
     "text": [
      "Approximate Diameter:  4\n"
     ]
    }
   ],
   "execution_count": 11
  },
  {
   "metadata": {},
   "cell_type": "markdown",
   "source": "## Centrality Measures",
   "id": "444760c6b697bc4c"
  },
  {
   "metadata": {},
   "cell_type": "markdown",
   "source": "### Closeness",
   "id": "83c70d48879bc7de"
  },
  {
   "metadata": {
    "ExecuteTime": {
     "end_time": "2024-05-23T12:31:11.352861Z",
     "start_time": "2024-05-23T12:30:08.123166Z"
    }
   },
   "cell_type": "code",
   "source": [
    "# calculate the average closeness for a random sample of giant component\n",
    "sample_size = 100\n",
    "closeness_values = []\n",
    "for i in range(sample_size):\n",
    "    closeness_values.append(\n",
    "        nx.closeness_centrality(giant_component_graph, u=random.choice(list(giant_component_graph.nodes()))))\n",
    "print(\"Average Closeness Centrality: \", sum(closeness_values) / sample_size)"
   ],
   "id": "87054bc101bb6b35",
   "outputs": [
    {
     "name": "stdout",
     "output_type": "stream",
     "text": [
      "Average Closeness Centrality:  0.2593564187094184\n"
     ]
    }
   ],
   "execution_count": 12
  },
  {
   "metadata": {},
   "cell_type": "markdown",
   "source": "### Betweenness",
   "id": "62cfb4ec4fe82ac1"
  },
  {
   "metadata": {
    "ExecuteTime": {
     "end_time": "2024-05-23T12:36:14.312720Z",
     "start_time": "2024-05-23T12:34:23.599255Z"
    }
   },
   "cell_type": "code",
   "source": [
    "# calculate the average betweenness for a random sample of giant component\n",
    "sample_size = min(100, len(giant_component_graph.nodes()))\n",
    "betweenness_values = []\n",
    "for i in range(sample_size):\n",
    "    node = random.choice(list(giant_component_graph.nodes()))\n",
    "    betweenness_values.append(nx.betweenness_centrality(giant_component_graph, k=1)[node])\n",
    "print(\"Average Betweenness Centrality: \", sum(betweenness_values) / sample_size)"
   ],
   "id": "438861d27c4d2dab",
   "outputs": [
    {
     "name": "stdout",
     "output_type": "stream",
     "text": [
      "Average Betweenness Centrality:  1.847376660445129e-05\n"
     ]
    }
   ],
   "execution_count": 13
  },
  {
   "metadata": {},
   "cell_type": "markdown",
   "source": "## Clustering Coefficient",
   "id": "2fff03b42a679807"
  },
  {
   "metadata": {
    "ExecuteTime": {
     "end_time": "2024-05-23T12:43:33.585976Z",
     "start_time": "2024-05-23T12:43:29.585832Z"
    }
   },
   "cell_type": "code",
   "source": [
    "clustering_coefficient = nx.average_clustering(new_giant_component_graph)\n",
    "print(\"Clustering Coefficient: \", clustering_coefficient)"
   ],
   "id": "4a9c562d0b7571f5",
   "outputs": [
    {
     "name": "stdout",
     "output_type": "stream",
     "text": [
      "Clustering Coefficient:  0.44847796701795783\n"
     ]
    }
   ],
   "execution_count": 14
  },
  {
   "metadata": {},
   "cell_type": "markdown",
   "source": "## Transitivity",
   "id": "f457401266207f83"
  },
  {
   "metadata": {
    "ExecuteTime": {
     "end_time": "2024-05-23T12:48:01.413056Z",
     "start_time": "2024-05-23T12:47:57.345085Z"
    }
   },
   "cell_type": "code",
   "source": [
    "transitivity = nx.transitivity(new_giant_component_graph)\n",
    "print(\"Transitivity: \", transitivity)"
   ],
   "id": "e37292957eabe6eb",
   "outputs": [
    {
     "name": "stdout",
     "output_type": "stream",
     "text": [
      "Transitivity:  0.16827397141027697\n"
     ]
    }
   ],
   "execution_count": 15
  },
  {
   "metadata": {},
   "cell_type": "code",
   "outputs": [],
   "execution_count": null,
   "source": "",
   "id": "3d61f82fc23533a6"
  }
 ],
 "metadata": {
  "kernelspec": {
   "display_name": "Python 3",
   "language": "python",
   "name": "python3"
  },
  "language_info": {
   "codemirror_mode": {
    "name": "ipython",
    "version": 2
   },
   "file_extension": ".py",
   "mimetype": "text/x-python",
   "name": "python",
   "nbconvert_exporter": "python",
   "pygments_lexer": "ipython2",
   "version": "2.7.6"
  }
 },
 "nbformat": 4,
 "nbformat_minor": 5
}
